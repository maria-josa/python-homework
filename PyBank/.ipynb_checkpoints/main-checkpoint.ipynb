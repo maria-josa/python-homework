{
 "cells": [
  {
   "cell_type": "code",
   "execution_count": null,
   "id": "5a6fbb59-5e6b-4eea-bfe4-8ebf441b8ef1",
   "metadata": {},
   "outputs": [],
   "source": [
    "from pathlib import Path\n",
    "import csv"
   ]
  },
  {
   "cell_type": "code",
   "execution_count": null,
   "id": "8625c766-23b3-401f-be34-84577780b524",
   "metadata": {},
   "outputs": [],
   "source": [
    "csvpath = Path(\"C:/Users/mjalm/python-homework/PyBank/budget_data.csv\")\n",
    "records = []\n",
    "month = []\n",
    "pnls = []\n",
    "\n",
    "with open(csvpath, 'r') as csvfile:\n",
    "    csvreader = csv.reader(csvfile, delimiter= ',')\n",
    "    \n",
    "    csv_header = next(csvreader)\n",
    "    records.append(csv_header)\n",
    "    \n",
    "    for row in csvreader:\n",
    "        print(row)\n",
    "        month = (row[0])\n",
    "        pnl = int(row[1])\n",
    "        pnls.append([month, pnl])\n",
    "#print(pnls)"
   ]
  },
  {
   "cell_type": "code",
   "execution_count": null,
   "id": "0e772a34-60e2-4044-a8a1-e64b8829e964",
   "metadata": {},
   "outputs": [],
   "source": [
    "total_pnl = 0 \n",
    "pnl_increase = 0\n",
    "prev_pnl = 0\n",
    "difference_pnl = []\n",
    "\n",
    "print(\"Total Month:\", len(pnls))\n",
    "for pnl in pnls:\n",
    "    total_pnl = total_pnl + pnl[1]\n",
    "print(\"Total Profit and Losses:\", total_pnl)\n",
    "\n",
    "for pnl in pnls:\n",
    "    if pnl_increase == 0:\n",
    "        difference_pnl.append([pnl[0],0])\n",
    "        pnl_increase = pnl[1]\n",
    "        prev_pnl = pnl[1]\n",
    "    else:\n",
    "        pnl_increase = pnl[1] - prev_pnl\n",
    "        difference_pnl.append([pnl[0],pnl_increase])\n",
    "        prev_pnl = pnl[1]\n",
    "        \n",
    "    differences = [pnl[1] for pnl in difference_pnl]\n",
    "    average = round(sum(differences)/(len(pnls)-1), 2)\n",
    "\n",
    "max_value = max(differences)\n",
    "max_index = differences.index(max_value)\n",
    "min_value = min(differences)\n",
    "min_index = differences.index(min_value)\n",
    "print(\"Average change:\", average)\n",
    "print(\"Maximum increase:\", difference_pnl[max_index][0], max(differences))\n",
    "print(\"Maximum decrease:\", difference_pnl[min_index][0], min(differences))\n",
    "\n",
    "#ANSWERS\n",
    "#Total Months: 86\n",
    "#Total: $38382578\n",
    "#Average  Change: $-2315.12\n",
    "#Greatest Increase in Profits: Feb-2012 ($1926159)\n",
    "#Greatest Decrease in Profits: Sep-2013 ($-2196167)\n",
    "\n",
    "#OTHER SOLUTIONS\n",
    "#print(\"Average Change:\", (pnls[-1][1] - pnls[0][1])/(len(pnls)-1))\n",
    "#print(\"Maximum increase:\", max(difference_pnl, key=lambda x: x[1]))\n",
    "#print(\"Maximum decrease:\", min(difference_pnl, key=lambda x: x[1]))\n"
   ]
  },
  {
   "cell_type": "code",
   "execution_count": null,
   "id": "08ea84f0-400a-443c-9998-25629be606f7",
   "metadata": {},
   "outputs": [],
   "source": [
    "#Your final script should print the analysis to the terminal \n",
    "#and export a text file with the results.\n"
   ]
  },
  {
   "cell_type": "code",
   "execution_count": null,
   "id": "c0159bb9-3557-4def-ac42-5e480ea17ca7",
   "metadata": {},
   "outputs": [],
   "source": []
  },
  {
   "cell_type": "code",
   "execution_count": null,
   "id": "0bf56928-c343-4fff-a5e9-5cfbad1861ff",
   "metadata": {},
   "outputs": [],
   "source": []
  }
 ],
 "metadata": {
  "kernelspec": {
   "display_name": "Python 3",
   "language": "python",
   "name": "python3"
  },
  "language_info": {
   "codemirror_mode": {
    "name": "ipython",
    "version": 3
   },
   "file_extension": ".py",
   "mimetype": "text/x-python",
   "name": "python",
   "nbconvert_exporter": "python",
   "pygments_lexer": "ipython3",
   "version": "3.7.10"
  }
 },
 "nbformat": 4,
 "nbformat_minor": 5
}
