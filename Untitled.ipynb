{
 "cells": [
  {
   "cell_type": "code",
   "execution_count": 1,
   "id": "a39522b9-75bb-4bfe-a140-761625a00395",
   "metadata": {},
   "outputs": [],
   "source": [
    "from pathlib import Path\n",
    "import csv"
   ]
  },
  {
   "cell_type": "code",
   "execution_count": 3,
   "id": "d2be1974-7d49-4942-bf37-a8c7bdcc4eb2",
   "metadata": {},
   "outputs": [],
   "source": [
    "csvpath = Path(\"../python-homework/PyBank/budget_data.csv\")"
   ]
  },
  {
   "cell_type": "code",
   "execution_count": 9,
   "id": "03ed78d8-bbee-4111-847c-3c518fda9421",
   "metadata": {},
   "outputs": [
    {
     "name": "stdout",
     "output_type": "stream",
     "text": [
      "..\\python-homework\\PyBank\\budget_data.csv\n"
     ]
    }
   ],
   "source": [
    "print(csvpath)"
   ]
  },
  {
   "cell_type": "code",
   "execution_count": 10,
   "id": "2635e017-6906-4d35-86d1-d997c89685da",
   "metadata": {},
   "outputs": [],
   "source": [
    "#Initialize Variables\n",
    "pnls = []\n",
    "nomonth = []\n",
    "line_num = 0"
   ]
  },
  {
   "cell_type": "code",
   "execution_count": 11,
   "id": "77e3c249-b04d-4104-aa14-43ba1320da06",
   "metadata": {},
   "outputs": [
    {
     "name": "stdout",
     "output_type": "stream",
     "text": [
      "['Jan-2010', '867884']\n",
      "['Feb-2010', '984655']\n",
      "['Mar-2010', '322013']\n",
      "['Apr-2010', '-69417']\n",
      "['May-2010', '310503']\n",
      "['Jun-2010', '522857']\n",
      "['Jul-2010', '1033096']\n",
      "['Aug-2010', '604885']\n",
      "['Sep-2010', '-216386']\n",
      "['Oct-2010', '477532']\n",
      "['Nov-2010', '893810']\n",
      "['Dec-2010', '-80353']\n",
      "['Jan-2011', '779806']\n",
      "['Feb-2011', '-335203']\n",
      "['Mar-2011', '697845']\n",
      "['Apr-2011', '793163']\n",
      "['May-2011', '485070']\n",
      "['Jun-2011', '584122']\n",
      "['Jul-2011', '62729']\n",
      "['Aug-2011', '668179']\n",
      "['Sep-2011', '899906']\n",
      "['Oct-2011', '834719']\n",
      "['Nov-2011', '132003']\n",
      "['Dec-2011', '309978']\n",
      "['Jan-2012', '-755566']\n",
      "['Feb-2012', '1170593']\n",
      "['Mar-2012', '252788']\n",
      "['Apr-2012', '1151518']\n",
      "['May-2012', '817256']\n",
      "['Jun-2012', '570757']\n",
      "['Jul-2012', '506702']\n",
      "['Aug-2012', '-1022534']\n",
      "['Sep-2012', '475062']\n",
      "['Oct-2012', '779976']\n",
      "['Nov-2012', '144175']\n",
      "['Dec-2012', '542494']\n",
      "['Jan-2013', '359333']\n",
      "['Feb-2013', '321469']\n",
      "['Mar-2013', '67780']\n",
      "['Apr-2013', '471435']\n",
      "['May-2013', '565603']\n",
      "['Jun-2013', '872480']\n",
      "['Jul-2013', '789480']\n",
      "['Aug-2013', '999942']\n",
      "['Sep-2013', '-1196225']\n",
      "['Oct-2013', '268997']\n",
      "['Nov-2013', '-687986']\n",
      "['Dec-2013', '1150461']\n",
      "['Jan-2014', '682458']\n",
      "['Feb-2014', '617856']\n",
      "['Mar-2014', '824098']\n",
      "['Apr-2014', '581943']\n",
      "['May-2014', '132864']\n",
      "['Jun-2014', '448062']\n",
      "['Jul-2014', '689161']\n",
      "['Aug-2014', '800701']\n",
      "['Sep-2014', '1166643']\n",
      "['Oct-2014', '947333']\n",
      "['Nov-2014', '578668']\n",
      "['Dec-2014', '988505']\n",
      "['Jan-2015', '1139715']\n",
      "['Feb-2015', '1029471']\n",
      "['Mar-2015', '687533']\n",
      "['Apr-2015', '-524626']\n",
      "['May-2015', '158620']\n",
      "['Jun-2015', '87795']\n",
      "['Jul-2015', '423389']\n",
      "['Aug-2015', '840723']\n",
      "['Sep-2015', '568529']\n",
      "['Oct-2015', '332067']\n",
      "['Nov-2015', '989499']\n",
      "['Dec-2015', '778237']\n",
      "['Jan-2016', '650000']\n",
      "['Feb-2016', '-1100387']\n",
      "['Mar-2016', '-174946']\n",
      "['Apr-2016', '757143']\n",
      "['May-2016', '445709']\n",
      "['Jun-2016', '712961']\n",
      "['Jul-2016', '-1163797']\n",
      "['Aug-2016', '569899']\n",
      "['Sep-2016', '768450']\n",
      "['Oct-2016', '102685']\n",
      "['Nov-2016', '795914']\n",
      "['Dec-2016', '60988']\n",
      "['Jan-2017', '138230']\n",
      "['Feb-2017', '671099']\n"
     ]
    }
   ],
   "source": [
    "with open(csvpath, 'r') as csvfile:\n",
    "    csvreader = csv.reader(csvfile, delimiter=',')\n",
    "    \n",
    "    header = next(csvreader)\n",
    "    \n",
    "    for row in csvreader:\n",
    "        print(row)\n",
    "        num_month = (row[0])\n",
    "        nomonth.append(nomonth)\n",
    "        \n",
    "        pnl = int(row[1])\n",
    "        pnls.append(pnl)"
   ]
  },
  {
   "cell_type": "code",
   "execution_count": 13,
   "id": "2b8f623c-7b5e-4dd4-acac-cafb9fde1a19",
   "metadata": {},
   "outputs": [
    {
     "name": "stdout",
     "output_type": "stream",
     "text": [
      "Total Months: 86\n",
      "Total Profit and Losses: 86\n",
      "Average of profit change: 446309.05\n",
      "Total max profit increase: 1926159\n",
      "Total Max profit decrease: -2196167\n"
     ]
    }
   ],
   "source": [
    "total_pnl = 0\n",
    "pnl_increase = 0\n",
    "prev_pnl = 0\n",
    "difference_pnl = [] # THIS IS A LIST \n",
    "\n",
    "for pnl in pnls:\n",
    "    \n",
    "    total_pnl = total_pnl + pnl\n",
    "    \n",
    "    if pnl_increase == 0:\n",
    "        difference_pnl.append(0)\n",
    "        pnl_increase = pnl\n",
    "        prev_pnl = pnl\n",
    "    \n",
    "    else:\n",
    "        pnl_increase = pnl - prev_pnl\n",
    "        difference_pnl.append(pnl_increase)\n",
    "        prev_pnl = pnl\n",
    "        prev_pnl.append()\n",
    "        \n",
    "print(\"Total Months:\",len(nomonth))\n",
    "print(\"Total Profit and Losses:\", len(pnls))\n",
    "print(\"Average of profit change:\", round(total_pnl/len(pnls), 2))\n",
    "max_profit_increase = (max(difference_pnl))\n",
    "max_profit_decrease = (min(difference_pnl))\n",
    "print(\"Total max profit increase:\", max_profit_increase)\n",
    "print(\"Total Max profit decrease:\", max_profit_decrease)\n",
    "\n"
   ]
  },
  {
   "cell_type": "code",
   "execution_count": null,
   "id": "c1a2f635-65a8-4a2f-b75a-a96b58f3ad11",
   "metadata": {},
   "outputs": [],
   "source": []
  }
 ],
 "metadata": {
  "kernelspec": {
   "display_name": "Python 3",
   "language": "python",
   "name": "python3"
  },
  "language_info": {
   "codemirror_mode": {
    "name": "ipython",
    "version": 3
   },
   "file_extension": ".py",
   "mimetype": "text/x-python",
   "name": "python",
   "nbconvert_exporter": "python",
   "pygments_lexer": "ipython3",
   "version": "3.7.10"
  }
 },
 "nbformat": 4,
 "nbformat_minor": 5
}
